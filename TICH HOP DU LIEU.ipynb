{
 "cells": [
  {
   "cell_type": "code",
   "execution_count": 2,
   "id": "df8eee21-b8fc-4b19-a14f-b5cbaf0dbd71",
   "metadata": {},
   "outputs": [
    {
     "data": {
      "text/html": [
       "\n",
       "        <div>\n",
       "            <p><b>SparkContext</b></p>\n",
       "\n",
       "            <p><a href=\"http://10.0.2.15:4041\">Spark UI</a></p>\n",
       "\n",
       "            <dl>\n",
       "              <dt>Version</dt>\n",
       "                <dd><code>v3.5.3</code></dd>\n",
       "              <dt>Master</dt>\n",
       "                <dd><code>local[*]</code></dd>\n",
       "              <dt>AppName</dt>\n",
       "                <dd><code>PySparkShell</code></dd>\n",
       "            </dl>\n",
       "        </div>\n",
       "        "
      ],
      "text/plain": [
       "<SparkContext master=local[*] appName=PySparkShell>"
      ]
     },
     "execution_count": 2,
     "metadata": {},
     "output_type": "execute_result"
    }
   ],
   "source": [
    "sc"
   ]
  },
  {
   "cell_type": "code",
   "execution_count": 4,
   "id": "e567fdb4-b029-40c7-8369-812ad8234538",
   "metadata": {},
   "outputs": [
    {
     "name": "stdout",
     "output_type": "stream",
     "text": [
      "DataFrame[\"fixed acidity\";\"volatile acidity\";\"citric acid\";\"residual sugar\";\"chlorides\";\"free sulfur dioxide\";\"total sulfur dioxide\";\"density\";\"pH\";\"sulphates\";\"alcohol\";\"quality\": string, color: string]\n",
      "+-------------------------------------------------------------------------------------------------------------------------------------------------------------------------+-----+\n",
      "|\"fixed acidity\";\"volatile acidity\";\"citric acid\";\"residual sugar\";\"chlorides\";\"free sulfur dioxide\";\"total sulfur dioxide\";\"density\";\"pH\";\"sulphates\";\"alcohol\";\"quality\"|color|\n",
      "+-------------------------------------------------------------------------------------------------------------------------------------------------------------------------+-----+\n",
      "|                                                                                                                                                     7.4;0.7;0;1.9;0.0...|  red|\n",
      "|                                                                                                                                                     7.8;0.88;0;2.6;0....|  red|\n",
      "|                                                                                                                                                     7.8;0.76;0.04;2.3...|  red|\n",
      "|                                                                                                                                                     11.2;0.28;0.56;1....|  red|\n",
      "|                                                                                                                                                     7.4;0.7;0;1.9;0.0...|  red|\n",
      "|                                                                                                                                                     7.4;0.66;0;1.8;0....|  red|\n",
      "|                                                                                                                                                     7.9;0.6;0.06;1.6;...|  red|\n",
      "|                                                                                                                                                     7.3;0.65;0;1.2;0....|  red|\n",
      "|                                                                                                                                                     7.8;0.58;0.02;2;0...|  red|\n",
      "|                                                                                                                                                     7.5;0.5;0.36;6.1;...|  red|\n",
      "|                                                                                                                                                     6.7;0.58;0.08;1.8...|  red|\n",
      "|                                                                                                                                                     7.5;0.5;0.36;6.1;...|  red|\n",
      "|                                                                                                                                                     5.6;0.615;0;1.6;0...|  red|\n",
      "|                                                                                                                                                     7.8;0.61;0.29;1.6...|  red|\n",
      "|                                                                                                                                                     8.9;0.62;0.18;3.8...|  red|\n",
      "|                                                                                                                                                     8.9;0.62;0.19;3.9...|  red|\n",
      "|                                                                                                                                                     8.5;0.28;0.56;1.8...|  red|\n",
      "|                                                                                                                                                     8.1;0.56;0.28;1.7...|  red|\n",
      "|                                                                                                                                                     7.4;0.59;0.08;4.4...|  red|\n",
      "|                                                                                                                                                     7.9;0.32;0.51;1.8...|  red|\n",
      "+-------------------------------------------------------------------------------------------------------------------------------------------------------------------------+-----+\n",
      "only showing top 20 rows\n",
      "\n"
     ]
    }
   ],
   "source": [
    "from pyspark.sql import SparkSession\n",
    "from pyspark.sql.functions import lit\n",
    "\n",
    "# Tạo SparkSession\n",
    "spark = SparkSession.builder.appName(\"MergeWineDatasets\").getOrCreate()\n",
    "\n",
    "# Đọc file dataset rượu đỏ và thêm cột \"color\" với giá trị \"red\"\n",
    "red_wine_df = spark.read.csv(\"winequality-red.csv\", header=True, inferSchema=True)\n",
    "red_wine_df = red_wine_df.withColumn(\"color\", lit(\"red\"))\n",
    "\n",
    "# Đọc file dataset rượu trắng và thêm cột \"color\" với giá trị \"white\"\n",
    "white_wine_df = spark.read.csv(\"winequality-white.csv\", header=True, inferSchema=True)\n",
    "white_wine_df = white_wine_df.withColumn(\"color\", lit(\"white\"))\n",
    "\n",
    "# Gộp hai DataFrame thành một\n",
    "combined_df = red_wine_df.union(white_wine_df)\n",
    "\n",
    "# Hiển thị kết quả\n",
    "print(combined_df)\n",
    "combined_df.show()\n"
   ]
  },
  {
   "cell_type": "code",
   "execution_count": 8,
   "id": "ec7fa871-039f-4ade-b219-6eed8e364ff9",
   "metadata": {},
   "outputs": [],
   "source": [
    "# Xuất DataFrame ra file CSV với tên Wine_Quality_Data.csv\n",
    "# combined_df.write.csv(\"Wine_Quality_Data1.csv\", header=True, mode=\"overwrite\")\n",
    "combined_df.coalesce(1).write.csv(\"Wine_Quality_Data1.csv\", header=True, mode=\"overwrite\")\n"
   ]
  }
 ],
 "metadata": {
  "kernelspec": {
   "display_name": "Python 3 (ipykernel)",
   "language": "python",
   "name": "python3"
  },
  "language_info": {
   "codemirror_mode": {
    "name": "ipython",
    "version": 3
   },
   "file_extension": ".py",
   "mimetype": "text/x-python",
   "name": "python",
   "nbconvert_exporter": "python",
   "pygments_lexer": "ipython3",
   "version": "3.8.10"
  }
 },
 "nbformat": 4,
 "nbformat_minor": 5
}
