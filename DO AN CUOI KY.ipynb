{
 "cells": [
  {
   "cell_type": "code",
   "execution_count": 1,
   "id": "851e180f-eeab-430a-ba69-68a53930e377",
   "metadata": {},
   "outputs": [
    {
     "data": {
      "text/html": [
       "\n",
       "        <div>\n",
       "            <p><b>SparkContext</b></p>\n",
       "\n",
       "            <p><a href=\"http://10.0.2.15:4040\">Spark UI</a></p>\n",
       "\n",
       "            <dl>\n",
       "              <dt>Version</dt>\n",
       "                <dd><code>v3.5.3</code></dd>\n",
       "              <dt>Master</dt>\n",
       "                <dd><code>local[*]</code></dd>\n",
       "              <dt>AppName</dt>\n",
       "                <dd><code>PySparkShell</code></dd>\n",
       "            </dl>\n",
       "        </div>\n",
       "        "
      ],
      "text/plain": [
       "<SparkContext master=local[*] appName=PySparkShell>"
      ]
     },
     "execution_count": 1,
     "metadata": {},
     "output_type": "execute_result"
    }
   ],
   "source": [
    "sc"
   ]
  },
  {
   "cell_type": "code",
   "execution_count": 2,
   "id": "2302cbf0-a344-407b-a118-3026f2b54a41",
   "metadata": {},
   "outputs": [
    {
     "name": "stdout",
     "output_type": "stream",
     "text": [
      "Bạn đang sử dụng SparkSession.\n",
      "SparkSession hiện tại: <pyspark.sql.session.SparkSession object at 0x7f4115fee790>\n",
      "SparkContext từ SparkSession: <SparkContext master=local[*] appName=PySparkShell>\n"
     ]
    }
   ],
   "source": [
    "if 'spark' in globals():\n",
    "    print(\"Bạn đang sử dụng SparkSession.\")\n",
    "    print(\"SparkSession hiện tại:\", spark)\n",
    "    print(\"SparkContext từ SparkSession:\", spark.sparkContext)\n",
    "elif 'sc' in globals():\n",
    "    print(\"Bạn đang sử dụng SparkContext trực tiếp.\")\n",
    "    print(\"SparkContext hiện tại:\", sc)\n",
    "else:\n",
    "    print(\"Bạn chưa khởi tạo SparkSession hoặc SparkContext.\")\n"
   ]
  },
  {
   "cell_type": "markdown",
   "id": "992fb109-46c6-4514-9a85-96f19f95b3b8",
   "metadata": {},
   "source": [
    "# Phan tich tham do"
   ]
  },
  {
   "cell_type": "code",
   "execution_count": 3,
   "id": "3dc3b65f-026c-4051-bef0-19c46901525b",
   "metadata": {
    "scrolled": true
   },
   "outputs": [
    {
     "name": "stdout",
     "output_type": "stream",
     "text": [
      "+-------------+----------------+-----------+--------------+-------------------+-------------------+--------------------+-------+----+---------+-------+-------+-----+\n",
      "|fixed_acidity|volatile_acidity|citric_acid|residual_sugar|          chlorides|free_sulfur_dioxide|total_sulfur_dioxide|density|  pH|sulphates|alcohol|quality|color|\n",
      "+-------------+----------------+-----------+--------------+-------------------+-------------------+--------------------+-------+----+---------+-------+-------+-----+\n",
      "|          7.4|             0.7|        0.0|           1.9|              0.076|               11.0|                34.0| 0.9978|3.51|     0.56|    9.4|      5|  red|\n",
      "|          7.8|            0.88|        0.0|           2.6|              0.098|               25.0|                67.0| 0.9968| 3.2|     0.68|    9.8|      5|  red|\n",
      "|          7.8|            0.76|       0.04|           2.3|              0.092|               15.0|                54.0|  0.997|3.26|     0.65|    9.8|      5|  red|\n",
      "|         11.2|            0.28|       0.56|           1.9|              0.075|               17.0|                60.0|  0.998|3.16|     0.58|    9.8|      6|  red|\n",
      "|          7.4|             0.7|        0.0|           1.9|              0.076|               11.0|                34.0| 0.9978|3.51|     0.56|    9.4|      5|  red|\n",
      "|          7.4|            0.66|        0.0|           1.8|              0.075|               13.0|                40.0| 0.9978|3.51|     0.56|    9.4|      5|  red|\n",
      "|          7.9|             0.6|       0.06|           1.6|              0.069|               15.0|                59.0| 0.9964| 3.3|     0.46|    9.4|      5|  red|\n",
      "|          7.3|            0.65|        0.0|           1.2|              0.065|               15.0|                21.0| 0.9946|3.39|     0.47|   10.0|      7|  red|\n",
      "|          7.8|            0.58|       0.02|           2.0|              0.073|                9.0|                18.0| 0.9968|3.36|     0.57|    9.5|      7|  red|\n",
      "|          7.5|             0.5|       0.36|           6.1|              0.071|               17.0|               102.0| 0.9978|3.35|      0.8|   10.5|      5|  red|\n",
      "|          6.7|            0.58|       0.08|           1.8|0.09699999999999999|               15.0|                65.0| 0.9959|3.28|     0.54|    9.2|      5|  red|\n",
      "|          7.5|             0.5|       0.36|           6.1|              0.071|               17.0|               102.0| 0.9978|3.35|      0.8|   10.5|      5|  red|\n",
      "|          5.6|           0.615|        0.0|           1.6|0.08900000000000001|               16.0|                59.0| 0.9943|3.58|     0.52|    9.9|      5|  red|\n",
      "|          7.8|            0.61|       0.29|           1.6|              0.114|                9.0|                29.0| 0.9974|3.26|     1.56|    9.1|      5|  red|\n",
      "|          8.9|            0.62|       0.18|           3.8|0.17600000000000002|               52.0|               145.0| 0.9986|3.16|     0.88|    9.2|      5|  red|\n",
      "|          8.9|            0.62|       0.19|           3.9|               0.17|               51.0|               148.0| 0.9986|3.17|     0.93|    9.2|      5|  red|\n",
      "|          8.5|            0.28|       0.56|           1.8|              0.092|               35.0|               103.0| 0.9969| 3.3|     0.75|   10.5|      7|  red|\n",
      "|          8.1|            0.56|       0.28|           1.7|              0.368|               16.0|                56.0| 0.9968|3.11|     1.28|    9.3|      5|  red|\n",
      "|          7.4|            0.59|       0.08|           4.4|              0.086|                6.0|                29.0| 0.9974|3.38|      0.5|    9.0|      4|  red|\n",
      "|          7.9|            0.32|       0.51|           1.8|              0.341|               17.0|                56.0| 0.9969|3.04|     1.08|    9.2|      6|  red|\n",
      "+-------------+----------------+-----------+--------------+-------------------+-------------------+--------------------+-------+----+---------+-------+-------+-----+\n",
      "only showing top 20 rows\n",
      "\n"
     ]
    }
   ],
   "source": [
    "df = spark.read.format(\"csv\").option(\"header\",\"true\").load(\"Wine_Quality_Data.csv\")\n",
    "df.show()"
   ]
  },
  {
   "cell_type": "code",
   "execution_count": 4,
   "id": "e14b0476-2c55-4290-b515-6dd8f2f3f81a",
   "metadata": {
    "scrolled": true
   },
   "outputs": [
    {
     "data": {
      "text/html": [
       "<div>\n",
       "<style scoped>\n",
       "    .dataframe tbody tr th:only-of-type {\n",
       "        vertical-align: middle;\n",
       "    }\n",
       "\n",
       "    .dataframe tbody tr th {\n",
       "        vertical-align: top;\n",
       "    }\n",
       "\n",
       "    .dataframe thead th {\n",
       "        text-align: right;\n",
       "    }\n",
       "</style>\n",
       "<table border=\"1\" class=\"dataframe\">\n",
       "  <thead>\n",
       "    <tr style=\"text-align: right;\">\n",
       "      <th></th>\n",
       "      <th>fixed_acidity</th>\n",
       "      <th>volatile_acidity</th>\n",
       "      <th>citric_acid</th>\n",
       "      <th>residual_sugar</th>\n",
       "      <th>chlorides</th>\n",
       "      <th>free_sulfur_dioxide</th>\n",
       "      <th>total_sulfur_dioxide</th>\n",
       "      <th>density</th>\n",
       "      <th>pH</th>\n",
       "      <th>sulphates</th>\n",
       "      <th>alcohol</th>\n",
       "      <th>quality</th>\n",
       "      <th>color</th>\n",
       "    </tr>\n",
       "  </thead>\n",
       "  <tbody>\n",
       "    <tr>\n",
       "      <th>0</th>\n",
       "      <td>7.4</td>\n",
       "      <td>0.7</td>\n",
       "      <td>0.0</td>\n",
       "      <td>1.9</td>\n",
       "      <td>0.076</td>\n",
       "      <td>11.0</td>\n",
       "      <td>34.0</td>\n",
       "      <td>0.9978</td>\n",
       "      <td>3.51</td>\n",
       "      <td>0.56</td>\n",
       "      <td>9.4</td>\n",
       "      <td>5</td>\n",
       "      <td>red</td>\n",
       "    </tr>\n",
       "    <tr>\n",
       "      <th>1</th>\n",
       "      <td>7.8</td>\n",
       "      <td>0.88</td>\n",
       "      <td>0.0</td>\n",
       "      <td>2.6</td>\n",
       "      <td>0.098</td>\n",
       "      <td>25.0</td>\n",
       "      <td>67.0</td>\n",
       "      <td>0.9968</td>\n",
       "      <td>3.2</td>\n",
       "      <td>0.68</td>\n",
       "      <td>9.8</td>\n",
       "      <td>5</td>\n",
       "      <td>red</td>\n",
       "    </tr>\n",
       "    <tr>\n",
       "      <th>2</th>\n",
       "      <td>7.8</td>\n",
       "      <td>0.76</td>\n",
       "      <td>0.04</td>\n",
       "      <td>2.3</td>\n",
       "      <td>0.092</td>\n",
       "      <td>15.0</td>\n",
       "      <td>54.0</td>\n",
       "      <td>0.997</td>\n",
       "      <td>3.26</td>\n",
       "      <td>0.65</td>\n",
       "      <td>9.8</td>\n",
       "      <td>5</td>\n",
       "      <td>red</td>\n",
       "    </tr>\n",
       "    <tr>\n",
       "      <th>3</th>\n",
       "      <td>11.2</td>\n",
       "      <td>0.28</td>\n",
       "      <td>0.56</td>\n",
       "      <td>1.9</td>\n",
       "      <td>0.075</td>\n",
       "      <td>17.0</td>\n",
       "      <td>60.0</td>\n",
       "      <td>0.998</td>\n",
       "      <td>3.16</td>\n",
       "      <td>0.58</td>\n",
       "      <td>9.8</td>\n",
       "      <td>6</td>\n",
       "      <td>red</td>\n",
       "    </tr>\n",
       "    <tr>\n",
       "      <th>4</th>\n",
       "      <td>7.4</td>\n",
       "      <td>0.7</td>\n",
       "      <td>0.0</td>\n",
       "      <td>1.9</td>\n",
       "      <td>0.076</td>\n",
       "      <td>11.0</td>\n",
       "      <td>34.0</td>\n",
       "      <td>0.9978</td>\n",
       "      <td>3.51</td>\n",
       "      <td>0.56</td>\n",
       "      <td>9.4</td>\n",
       "      <td>5</td>\n",
       "      <td>red</td>\n",
       "    </tr>\n",
       "    <tr>\n",
       "      <th>5</th>\n",
       "      <td>7.4</td>\n",
       "      <td>0.66</td>\n",
       "      <td>0.0</td>\n",
       "      <td>1.8</td>\n",
       "      <td>0.075</td>\n",
       "      <td>13.0</td>\n",
       "      <td>40.0</td>\n",
       "      <td>0.9978</td>\n",
       "      <td>3.51</td>\n",
       "      <td>0.56</td>\n",
       "      <td>9.4</td>\n",
       "      <td>5</td>\n",
       "      <td>red</td>\n",
       "    </tr>\n",
       "    <tr>\n",
       "      <th>6</th>\n",
       "      <td>7.9</td>\n",
       "      <td>0.6</td>\n",
       "      <td>0.06</td>\n",
       "      <td>1.6</td>\n",
       "      <td>0.069</td>\n",
       "      <td>15.0</td>\n",
       "      <td>59.0</td>\n",
       "      <td>0.9964</td>\n",
       "      <td>3.3</td>\n",
       "      <td>0.46</td>\n",
       "      <td>9.4</td>\n",
       "      <td>5</td>\n",
       "      <td>red</td>\n",
       "    </tr>\n",
       "    <tr>\n",
       "      <th>7</th>\n",
       "      <td>7.3</td>\n",
       "      <td>0.65</td>\n",
       "      <td>0.0</td>\n",
       "      <td>1.2</td>\n",
       "      <td>0.065</td>\n",
       "      <td>15.0</td>\n",
       "      <td>21.0</td>\n",
       "      <td>0.9946</td>\n",
       "      <td>3.39</td>\n",
       "      <td>0.47</td>\n",
       "      <td>10.0</td>\n",
       "      <td>7</td>\n",
       "      <td>red</td>\n",
       "    </tr>\n",
       "    <tr>\n",
       "      <th>8</th>\n",
       "      <td>7.8</td>\n",
       "      <td>0.58</td>\n",
       "      <td>0.02</td>\n",
       "      <td>2.0</td>\n",
       "      <td>0.073</td>\n",
       "      <td>9.0</td>\n",
       "      <td>18.0</td>\n",
       "      <td>0.9968</td>\n",
       "      <td>3.36</td>\n",
       "      <td>0.57</td>\n",
       "      <td>9.5</td>\n",
       "      <td>7</td>\n",
       "      <td>red</td>\n",
       "    </tr>\n",
       "    <tr>\n",
       "      <th>9</th>\n",
       "      <td>7.5</td>\n",
       "      <td>0.5</td>\n",
       "      <td>0.36</td>\n",
       "      <td>6.1</td>\n",
       "      <td>0.071</td>\n",
       "      <td>17.0</td>\n",
       "      <td>102.0</td>\n",
       "      <td>0.9978</td>\n",
       "      <td>3.35</td>\n",
       "      <td>0.8</td>\n",
       "      <td>10.5</td>\n",
       "      <td>5</td>\n",
       "      <td>red</td>\n",
       "    </tr>\n",
       "  </tbody>\n",
       "</table>\n",
       "</div>"
      ],
      "text/plain": [
       "  fixed_acidity volatile_acidity citric_acid residual_sugar chlorides  \\\n",
       "0           7.4              0.7         0.0            1.9     0.076   \n",
       "1           7.8             0.88         0.0            2.6     0.098   \n",
       "2           7.8             0.76        0.04            2.3     0.092   \n",
       "3          11.2             0.28        0.56            1.9     0.075   \n",
       "4           7.4              0.7         0.0            1.9     0.076   \n",
       "5           7.4             0.66         0.0            1.8     0.075   \n",
       "6           7.9              0.6        0.06            1.6     0.069   \n",
       "7           7.3             0.65         0.0            1.2     0.065   \n",
       "8           7.8             0.58        0.02            2.0     0.073   \n",
       "9           7.5              0.5        0.36            6.1     0.071   \n",
       "\n",
       "  free_sulfur_dioxide total_sulfur_dioxide density    pH sulphates alcohol  \\\n",
       "0                11.0                 34.0  0.9978  3.51      0.56     9.4   \n",
       "1                25.0                 67.0  0.9968   3.2      0.68     9.8   \n",
       "2                15.0                 54.0   0.997  3.26      0.65     9.8   \n",
       "3                17.0                 60.0   0.998  3.16      0.58     9.8   \n",
       "4                11.0                 34.0  0.9978  3.51      0.56     9.4   \n",
       "5                13.0                 40.0  0.9978  3.51      0.56     9.4   \n",
       "6                15.0                 59.0  0.9964   3.3      0.46     9.4   \n",
       "7                15.0                 21.0  0.9946  3.39      0.47    10.0   \n",
       "8                 9.0                 18.0  0.9968  3.36      0.57     9.5   \n",
       "9                17.0                102.0  0.9978  3.35       0.8    10.5   \n",
       "\n",
       "  quality color  \n",
       "0       5   red  \n",
       "1       5   red  \n",
       "2       5   red  \n",
       "3       6   red  \n",
       "4       5   red  \n",
       "5       5   red  \n",
       "6       5   red  \n",
       "7       7   red  \n",
       "8       7   red  \n",
       "9       5   red  "
      ]
     },
     "execution_count": 4,
     "metadata": {},
     "output_type": "execute_result"
    }
   ],
   "source": [
    "df.limit(10).toPandas()\n"
   ]
  },
  {
   "cell_type": "code",
   "execution_count": 5,
   "id": "47cf5acb-0b5c-4ac4-8027-0175ccd585a0",
   "metadata": {
    "scrolled": true
   },
   "outputs": [
    {
     "name": "stdout",
     "output_type": "stream",
     "text": [
      "root\n",
      " |-- fixed_acidity: string (nullable = true)\n",
      " |-- volatile_acidity: string (nullable = true)\n",
      " |-- citric_acid: string (nullable = true)\n",
      " |-- residual_sugar: string (nullable = true)\n",
      " |-- chlorides: string (nullable = true)\n",
      " |-- free_sulfur_dioxide: string (nullable = true)\n",
      " |-- total_sulfur_dioxide: string (nullable = true)\n",
      " |-- density: string (nullable = true)\n",
      " |-- pH: string (nullable = true)\n",
      " |-- sulphates: string (nullable = true)\n",
      " |-- alcohol: string (nullable = true)\n",
      " |-- quality: string (nullable = true)\n",
      " |-- color: string (nullable = true)\n",
      "\n"
     ]
    }
   ],
   "source": [
    "df.printSchema()"
   ]
  },
  {
   "cell_type": "code",
   "execution_count": 6,
   "id": "e881568b-2590-438e-8b7c-861c8653ae89",
   "metadata": {},
   "outputs": [
    {
     "name": "stdout",
     "output_type": "stream",
     "text": [
      "Số lượng hàng: 6497, Số lượng cột: 13\n"
     ]
    }
   ],
   "source": [
    "# Số lượng hàng và cột\n",
    "num_rows = df.count()\n",
    "num_cols = len(df.columns)\n",
    "print(f\"Số lượng hàng: {num_rows}, Số lượng cột: {num_cols}\")\n"
   ]
  },
  {
   "cell_type": "code",
   "execution_count": 7,
   "id": "5ebe405a-3755-4157-a8ff-0ef4dd082ed1",
   "metadata": {
    "scrolled": true
   },
   "outputs": [
    {
     "name": "stdout",
     "output_type": "stream",
     "text": [
      "+-------+-----------------+\n",
      "|summary|    fixed_acidity|\n",
      "+-------+-----------------+\n",
      "|  count|             6497|\n",
      "|   mean|7.215307064799134|\n",
      "| stddev|1.296433757799806|\n",
      "|    min|             10.0|\n",
      "|    max|              9.9|\n",
      "+-------+-----------------+\n",
      "\n",
      "+-------+-------------------+\n",
      "|summary|   volatile_acidity|\n",
      "+-------+-------------------+\n",
      "|  count|               6497|\n",
      "|   mean|0.33966599969217015|\n",
      "| stddev|0.16463647408467907|\n",
      "|    min|               0.08|\n",
      "|    max|               1.58|\n",
      "+-------+-------------------+\n",
      "\n",
      "+-------+-------------------+\n",
      "|summary|        citric_acid|\n",
      "+-------+-------------------+\n",
      "|  count|               6497|\n",
      "|   mean| 0.3186332153301454|\n",
      "| stddev|0.14531786489759163|\n",
      "|    min|                0.0|\n",
      "|    max|               1.66|\n",
      "+-------+-------------------+\n",
      "\n",
      "+-------+------------------+\n",
      "|summary|    residual_sugar|\n",
      "+-------+------------------+\n",
      "|  count|              6497|\n",
      "|   mean|5.4432353393874156|\n",
      "| stddev| 4.757803743147422|\n",
      "|    min|               0.6|\n",
      "|    max|               9.9|\n",
      "+-------+------------------+\n",
      "\n",
      "+-------+--------------------+\n",
      "|summary|           chlorides|\n",
      "+-------+--------------------+\n",
      "|  count|                6497|\n",
      "|   mean|  0.0560338617823606|\n",
      "| stddev| 0.03503360137245915|\n",
      "|    min|0.009000000000000001|\n",
      "|    max|               0.611|\n",
      "+-------+--------------------+\n",
      "\n",
      "+-------+-------------------+\n",
      "|summary|free_sulfur_dioxide|\n",
      "+-------+-------------------+\n",
      "|  count|               6497|\n",
      "|   mean| 30.525319378174544|\n",
      "| stddev|  17.74939977200251|\n",
      "|    min|                1.0|\n",
      "|    max|               98.0|\n",
      "+-------+-------------------+\n",
      "\n",
      "+-------+--------------------+\n",
      "|summary|total_sulfur_dioxide|\n",
      "+-------+--------------------+\n",
      "|  count|                6497|\n",
      "|   mean|   115.7445744189626|\n",
      "| stddev|   56.52185452263024|\n",
      "|    min|                10.0|\n",
      "|    max|                99.0|\n",
      "+-------+--------------------+\n",
      "\n",
      "+-------+--------------------+\n",
      "|summary|             density|\n",
      "+-------+--------------------+\n",
      "|  count|                6497|\n",
      "|   mean|  0.9946966338309924|\n",
      "| stddev|0.002998673003719...|\n",
      "|    min|             0.98711|\n",
      "|    max|             1.03898|\n",
      "+-------+--------------------+\n",
      "\n",
      "+-------+------------------+\n",
      "|summary|                pH|\n",
      "+-------+------------------+\n",
      "|  count|              6497|\n",
      "|   mean|3.2185008465445644|\n",
      "| stddev|0.1607872021039889|\n",
      "|    min|              2.72|\n",
      "|    max|              4.01|\n",
      "+-------+------------------+\n",
      "\n",
      "+-------+------------------+\n",
      "|summary|         sulphates|\n",
      "+-------+------------------+\n",
      "|  count|              6497|\n",
      "|   mean|0.5312682776666163|\n",
      "| stddev|0.1488058736144904|\n",
      "|    min|              0.22|\n",
      "|    max|               2.0|\n",
      "+-------+------------------+\n",
      "\n",
      "+-------+------------------+\n",
      "|summary|           alcohol|\n",
      "+-------+------------------+\n",
      "|  count|              6497|\n",
      "|   mean|10.491800831152855|\n",
      "| stddev|1.1927117488709933|\n",
      "|    min|              10.0|\n",
      "|    max|              9.95|\n",
      "+-------+------------------+\n",
      "\n",
      "+-------+------------------+\n",
      "|summary|           quality|\n",
      "+-------+------------------+\n",
      "|  count|              6497|\n",
      "|   mean| 5.818377712790519|\n",
      "| stddev|0.8732552715311255|\n",
      "|    min|                 3|\n",
      "|    max|                 9|\n",
      "+-------+------------------+\n",
      "\n"
     ]
    }
   ],
   "source": [
    "# tim min max cua tung cot\n",
    "\n",
    "array = [\"fixed_acidity\", \"volatile_acidity\", \"citric_acid\", \"residual_sugar\", \"chlorides\", \n",
    " \"free_sulfur_dioxide\", \"total_sulfur_dioxide\", \"density\", \"pH\", \"sulphates\", \n",
    " \"alcohol\", \"quality\"]\n",
    "for i in array:\n",
    "    df.select(i).describe().show()\n"
   ]
  },
  {
   "cell_type": "code",
   "execution_count": 8,
   "id": "a4c0b9ce-d1f4-439b-82c2-5889c9e23f01",
   "metadata": {
    "scrolled": true
   },
   "outputs": [
    {
     "name": "stdout",
     "output_type": "stream",
     "text": [
      "Phân tích cột: fixed_acidity\n",
      "Giá trị phổ biến nhất của fixed_acidity: 6.8 với tần suất 354\n",
      "Giá trị hiếm nhất của fixed_acidity: 14.2 với tần suất 1\n",
      "--------------------------------------------------\n",
      "Phân tích cột: volatile_acidity\n",
      "Giá trị phổ biến nhất của volatile_acidity: 0.28 với tần suất 286\n",
      "Giá trị hiếm nhất của volatile_acidity: 0.845 với tần suất 1\n",
      "--------------------------------------------------\n",
      "Phân tích cột: citric_acid\n",
      "Giá trị phổ biến nhất của citric_acid: 0.3 với tần suất 337\n",
      "Giá trị hiếm nhất của citric_acid: 0.75 với tần suất 1\n",
      "--------------------------------------------------\n",
      "Phân tích cột: residual_sugar\n",
      "Giá trị phổ biến nhất của residual_sugar: 2.0 với tần suất 235\n",
      "Giá trị hiếm nhất của residual_sugar: 19.35 với tần suất 1\n",
      "--------------------------------------------------\n",
      "Phân tích cột: chlorides\n",
      "Giá trị phổ biến nhất của chlorides: 0.044000000000000004 với tần suất 206\n",
      "Giá trị hiếm nhất của chlorides: 0.358 với tần suất 1\n",
      "--------------------------------------------------\n",
      "Phân tích cột: free_sulfur_dioxide\n",
      "Giá trị phổ biến nhất của free_sulfur_dioxide: 29.0 với tần suất 183\n",
      "Giá trị hiếm nhất của free_sulfur_dioxide: 118.5 với tần suất 1\n",
      "--------------------------------------------------\n",
      "Phân tích cột: total_sulfur_dioxide\n",
      "Giá trị phổ biến nhất của total_sulfur_dioxide: 111.0 với tần suất 72\n",
      "Giá trị hiếm nhất của total_sulfur_dioxide: 234.5 với tần suất 1\n",
      "--------------------------------------------------\n",
      "Phân tích cột: density\n",
      "Giá trị phổ biến nhất của density: 0.9972 với tần suất 69\n",
      "Giá trị hiếm nhất của density: 0.99641 với tần suất 1\n",
      "--------------------------------------------------\n",
      "Phân tích cột: pH\n",
      "Giá trị phổ biến nhất của pH: 3.16 với tần suất 200\n",
      "Giá trị hiếm nhất của pH: 3.85 với tần suất 1\n",
      "--------------------------------------------------\n",
      "Phân tích cột: sulphates\n",
      "Giá trị phổ biến nhất của sulphates: 0.5 với tần suất 276\n",
      "Giá trị hiếm nhất của sulphates: 1.11 với tần suất 1\n",
      "--------------------------------------------------\n",
      "Phân tích cột: alcohol\n",
      "Giá trị phổ biến nhất của alcohol: 9.5 với tần suất 367\n",
      "Giá trị hiếm nhất của alcohol: 14.2 với tần suất 1\n",
      "--------------------------------------------------\n",
      "Phân tích cột: quality\n",
      "Giá trị phổ biến nhất của quality: 6 với tần suất 2836\n",
      "Giá trị hiếm nhất của quality: 9 với tần suất 5\n",
      "--------------------------------------------------\n"
     ]
    }
   ],
   "source": [
    "from pyspark.sql import functions as F\n",
    "\n",
    "# Mảng chứa tên các cột cần phân tích\n",
    "array = [\"fixed_acidity\", \"volatile_acidity\", \"citric_acid\", \"residual_sugar\", \"chlorides\", \n",
    "         \"free_sulfur_dioxide\", \"total_sulfur_dioxide\", \"density\", \"pH\", \"sulphates\", \n",
    "         \"alcohol\", \"quality\"]\n",
    "\n",
    "# Lặp qua từng cột trong mảng\n",
    "for col in array:\n",
    "    print(f\"Phân tích cột: {col}\")\n",
    "    \n",
    "    # Tìm giá trị phổ biến nhất (Mode)\n",
    "    most_frequent = (\n",
    "        df.groupBy(col)\n",
    "        .count()\n",
    "        .orderBy(F.desc(\"count\"))  # Sắp xếp theo số lần xuất hiện giảm dần\n",
    "        .first()  # Lấy giá trị đầu tiên là giá trị phổ biến nhất\n",
    "    )\n",
    "    print(f\"Giá trị phổ biến nhất của {col}: {most_frequent[col]} với tần suất {most_frequent['count']}\")\n",
    "    \n",
    "    # Tìm giá trị hiếm nhất\n",
    "    least_frequent = (\n",
    "        df.groupBy(col)\n",
    "        .count()\n",
    "        .orderBy(\"count\")  # Sắp xếp theo số lần xuất hiện tăng dần\n",
    "        .first()  # Lấy giá trị đầu tiên là giá trị hiếm nhất\n",
    "    )\n",
    "    print(f\"Giá trị hiếm nhất của {col}: {least_frequent[col]} với tần suất {least_frequent['count']}\")\n",
    "    \n",
    "    print(\"-\" * 50)  # Ngăn cách kết quả từng cột\n"
   ]
  },
  {
   "cell_type": "code",
   "execution_count": 9,
   "id": "26f5e8d5-b167-4315-9514-aad404e623ac",
   "metadata": {},
   "outputs": [
    {
     "name": "stdout",
     "output_type": "stream",
     "text": [
      "Tổng số giá trị null: 0\n"
     ]
    }
   ],
   "source": [
    "# Tính tổng số lượng null trong toàn bộ dataset\n",
    "from pyspark.sql.functions import col, isnan, when, count\n",
    "\n",
    "total_nulls = sum([df.filter(col(c).isNull() | isnan(col(c))).count() for c in df.columns])\n",
    "print(\"Tổng số giá trị null:\", total_nulls)\n"
   ]
  },
  {
   "cell_type": "code",
   "execution_count": 10,
   "id": "b1b6b7e0-cfb0-4dc9-86dd-b21e3d8a00c2",
   "metadata": {
    "scrolled": true
   },
   "outputs": [
    {
     "name": "stdout",
     "output_type": "stream",
     "text": [
      "Column fixed_acidity: Found 128 outliers.\n",
      "Column volatile_acidity: Found 95 outliers.\n",
      "Column citric_acid: Found 28 outliers.\n",
      "Column residual_sugar: Found 26 outliers.\n",
      "Column chlorides: Found 107 outliers.\n",
      "Column free_sulfur_dioxide: Found 36 outliers.\n",
      "Column total_sulfur_dioxide: Found 8 outliers.\n",
      "Column density: Found 3 outliers.\n",
      "Column pH: Found 33 outliers.\n",
      "Column sulphates: Found 75 outliers.\n",
      "Column alcohol: Found 2 outliers.\n",
      "Column quality: Found 35 outliers.\n",
      "\n",
      "Summary of Outliers Detection:\n",
      "fixed_acidity: 128 outliers detected.\n",
      "volatile_acidity: 95 outliers detected.\n",
      "citric_acid: 28 outliers detected.\n",
      "residual_sugar: 26 outliers detected.\n",
      "chlorides: 107 outliers detected.\n",
      "free_sulfur_dioxide: 36 outliers detected.\n",
      "total_sulfur_dioxide: 8 outliers detected.\n",
      "density: 3 outliers detected.\n",
      "pH: 33 outliers detected.\n",
      "sulphates: 75 outliers detected.\n",
      "alcohol: 2 outliers detected.\n",
      "quality: 35 outliers detected.\n"
     ]
    }
   ],
   "source": [
    "#================================== KIEM TRA CAC COT CO OUTLIERS KHONG ========================\n",
    "from pyspark.sql.functions import mean, stddev, col\n",
    "\n",
    "# Danh sách các cột cần kiểm tra outliers\n",
    "columns = [\"fixed_acidity\", \"volatile_acidity\", \"citric_acid\", \"residual_sugar\", \"chlorides\",\n",
    "           \"free_sulfur_dioxide\", \"total_sulfur_dioxide\", \"density\", \"pH\", \"sulphates\", \n",
    "           \"alcohol\", \"quality\"]\n",
    "\n",
    "# Tạo một dictionary để lưu các outliers của từng cột\n",
    "outliers_dict = {}\n",
    "\n",
    "for column in columns:\n",
    "    # Tính trung bình và độ lệch chuẩn cho cột hiện tại\n",
    "    stats = df.select(mean(column).alias(\"mean\"), stddev(column).alias(\"stddev\")).first()\n",
    "    mean_value, stddev_value = stats[\"mean\"], stats[\"stddev\"]\n",
    "\n",
    "    # Nếu độ lệch chuẩn bằng 0, bỏ qua vì không có outliers\n",
    "    if stddev_value == 0:\n",
    "        print(f\"Column {column} has no variability (stddev=0), skipping...\")\n",
    "        continue\n",
    "\n",
    "    # Tính toán z-score và lọc các outliers\n",
    "    z_score_df = df.withColumn(f\"{column}_z_score\", (col(column) - mean_value) / stddev_value)\n",
    "    outliers = z_score_df.filter((col(f\"{column}_z_score\") > 3) | (col(f\"{column}_z_score\") < -3))\n",
    "    \n",
    "    # Lưu kết quả vào dictionary\n",
    "    outliers_count = outliers.count()\n",
    "    outliers_dict[column] = {\n",
    "        \"outliers_count\": outliers_count,\n",
    "        \"outliers_df\": outliers.select(column).collect()  # Lưu giá trị outliers (dạng list)\n",
    "    }\n",
    "\n",
    "    print(f\"Column {column}: Found {outliers_count} outliers.\")\n",
    "\n",
    "# In kết quả tóm tắt\n",
    "print(\"\\nSummary of Outliers Detection:\")\n",
    "for column, info in outliers_dict.items():\n",
    "    print(f\"{column}: {info['outliers_count']} outliers detected.\")\n",
    "\n"
   ]
  },
  {
   "cell_type": "markdown",
   "id": "493bef44-3bd9-451d-99b8-4f6f6eede9b3",
   "metadata": {},
   "source": [
    "# Tien xu ly du lieu ket hop eda\n",
    "- chuyen doi kieu du lieu\n",
    "- loai bo outliers\n",
    "- chuan hoa du lieu"
   ]
  },
  {
   "cell_type": "markdown",
   "id": "5ea7d11d-afd8-412b-ab0f-48ba640db306",
   "metadata": {},
   "source": [
    "#### chuyen doi kieu du lieu"
   ]
  },
  {
   "cell_type": "code",
   "execution_count": 11,
   "id": "55e686a6-6c6a-4d58-af84-d4f405ef6753",
   "metadata": {},
   "outputs": [],
   "source": [
    "# chuyen doi kieu du lieu\n",
    "from pyspark.sql.types import IntegerType, StringType, FloatType, DoubleType\n",
    "\n",
    "new_types = {\"fixed_acidity\": DoubleType(), \"volatile_acidity\": DoubleType(), \"citric_acid\": DoubleType(), \"residual_sugar\": DoubleType(), \n",
    "             \"chlorides\": DoubleType(), \"free_sulfur_dioxide\": DoubleType(), \"total_sulfur_dioxide\": DoubleType(), \"density\": DoubleType(), \n",
    "             \"pH\": DoubleType(), \"sulphates\": DoubleType(),\"alcohol\": DoubleType(), \"quality\": DoubleType(), }\n",
    "\n",
    "for col, dtype in new_types.items():\n",
    "    df = df.withColumn(col, df[col].cast(dtype))\n"
   ]
  },
  {
   "cell_type": "code",
   "execution_count": 12,
   "id": "a6f2ca47-d35f-4077-a42b-e34ea1404b38",
   "metadata": {},
   "outputs": [
    {
     "name": "stdout",
     "output_type": "stream",
     "text": [
      "root\n",
      " |-- fixed_acidity: double (nullable = true)\n",
      " |-- volatile_acidity: double (nullable = true)\n",
      " |-- citric_acid: double (nullable = true)\n",
      " |-- residual_sugar: double (nullable = true)\n",
      " |-- chlorides: double (nullable = true)\n",
      " |-- free_sulfur_dioxide: double (nullable = true)\n",
      " |-- total_sulfur_dioxide: double (nullable = true)\n",
      " |-- density: double (nullable = true)\n",
      " |-- pH: double (nullable = true)\n",
      " |-- sulphates: double (nullable = true)\n",
      " |-- alcohol: double (nullable = true)\n",
      " |-- quality: double (nullable = true)\n",
      " |-- color: string (nullable = true)\n",
      "\n"
     ]
    }
   ],
   "source": [
    "df.printSchema()"
   ]
  },
  {
   "cell_type": "markdown",
   "id": "24438a41-bfc5-4d7f-beaf-c2e0b294dd1a",
   "metadata": {},
   "source": [
    "#### loai bo outliers"
   ]
  },
  {
   "cell_type": "code",
   "execution_count": 13,
   "id": "0e6b51b0-e3d6-407a-842d-37f85b0b343e",
   "metadata": {},
   "outputs": [
    {
     "name": "stdout",
     "output_type": "stream",
     "text": [
      "Outliers removed. Remaining rows: 5989\n"
     ]
    }
   ],
   "source": [
    "from pyspark.sql.functions import col\n",
    "\n",
    "# Bắt đầu với DataFrame gốc\n",
    "NO_OUTLIERS_df = df\n",
    "\n",
    "for column in columns:\n",
    "    # Tính toán mean và stddev\n",
    "    stats = df.select(mean(column).alias(\"mean\"), stddev(column).alias(\"stddev\")).first()\n",
    "    mean_value, stddev_value = stats[\"mean\"], stats[\"stddev\"]\n",
    "\n",
    "    # Nếu stddev = 0, không cần lọc\n",
    "    if stddev_value == 0:\n",
    "        print(f\"Column {column} has no variability (stddev=0), skipping...\")\n",
    "        continue\n",
    "\n",
    "    # Tính toán z-score và loại bỏ outliers\n",
    "    z_score_column = (col(column) - mean_value) / stddev_value\n",
    "    NO_OUTLIERS_df = NO_OUTLIERS_df.filter((z_score_column <= 3) & (z_score_column >= -3))\n",
    "\n",
    "print(\"Outliers removed. Remaining rows:\", NO_OUTLIERS_df.count())\n"
   ]
  },
  {
   "cell_type": "code",
   "execution_count": 14,
   "id": "86389c9d-5287-4390-a414-d6599b3e9fb1",
   "metadata": {},
   "outputs": [
    {
     "name": "stdout",
     "output_type": "stream",
     "text": [
      "DataFrame[fixed_acidity: double, volatile_acidity: double, citric_acid: double, residual_sugar: double, chlorides: double, free_sulfur_dioxide: double, total_sulfur_dioxide: double, density: double, pH: double, sulphates: double, alcohol: double, quality: double, color: string]\n"
     ]
    }
   ],
   "source": [
    "print(NO_OUTLIERS_df)"
   ]
  },
  {
   "cell_type": "markdown",
   "id": "c191907b-6685-4a81-9b22-ff621fe6c324",
   "metadata": {},
   "source": [
    "#### chuan hoa du lieu"
   ]
  },
  {
   "cell_type": "code",
   "execution_count": 15,
   "id": "e88739ac-599f-45c1-a7a5-040fe0402a37",
   "metadata": {},
   "outputs": [
    {
     "name": "stderr",
     "output_type": "stream",
     "text": [
      "24/11/20 20:41:24 WARN SparkSession: Using an existing Spark session; only runtime SQL configurations will take effect.\n"
     ]
    }
   ],
   "source": [
    "# do ta su dung knn nen se kha nhay cam voi khoang cach ==> ta se thuc hien chuan hoa du lieu de dua ve mien [0,1] bang phuong phap min-max..\n",
    "# ..normalization.\n",
    "\n",
    "from pyspark.sql import SparkSession\n",
    "from pyspark.sql.functions import col, min, max\n",
    "spark = SparkSession.builder.appName(\"DataNormalization\").getOrCreate()\n",
    "\n",
    "# Danh sách các cột liên tục (trừ \"quality\")\n",
    "continuous_columns = [\"fixed_acidity\", \"volatile_acidity\", \"citric_acid\", \"residual_sugar\", \"chlorides\",\n",
    "                      \"free_sulfur_dioxide\", \"total_sulfur_dioxide\", \"density\", \"pH\", \"sulphates\", \"alcohol\"]\n",
    "newdf = NO_OUTLIERS_df\n",
    "\n",
    "# Tính giá trị min và max cho từng cột\n",
    "min_max_values = {}\n",
    "for column in continuous_columns:\n",
    "    min_val, max_val = newdf.select(min(col(column)), max(col(column))).first()\n",
    "    min_max_values[column] = (min_val, max_val)\n",
    "    \n",
    "# Áp dụng chuẩn hóa Min-Max\n",
    "for column in continuous_columns:\n",
    "    min_val, max_val = min_max_values[column]\n",
    "    newdf = newdf.withColumn(column, \n",
    "                      (col(column) - min_val) / (max_val - min_val))\n"
   ]
  },
  {
   "cell_type": "code",
   "execution_count": 16,
   "id": "17dadd76-380e-465b-8f67-32919dc37591",
   "metadata": {},
   "outputs": [
    {
     "name": "stdout",
     "output_type": "stream",
     "text": [
      "Số cột trong DataFrame: 13\n",
      "Tên các cột: ['fixed_acidity', 'volatile_acidity', 'citric_acid', 'residual_sugar', 'chlorides', 'free_sulfur_dioxide', 'total_sulfur_dioxide', 'density', 'pH', 'sulphates', 'alcohol', 'quality', 'color']\n"
     ]
    }
   ],
   "source": [
    "# kiem tra cac cot cua newdf\n",
    "num_columns = len(newdf.columns)\n",
    "print(f\"Số cột trong DataFrame: {num_columns}\")\n",
    "print(f\"Tên các cột: {newdf.columns}\")"
   ]
  },
  {
   "cell_type": "code",
   "execution_count": 17,
   "id": "a8d58c72-052c-425f-a5d8-897e26493541",
   "metadata": {
    "scrolled": true
   },
   "outputs": [
    {
     "name": "stderr",
     "output_type": "stream",
     "text": [
      "24/11/20 20:41:32 WARN SparkStringUtils: Truncated the string representation of a plan since it was too large. This behavior can be adjusted by setting 'spark.sql.debug.maxToStringFields'.\n"
     ]
    },
    {
     "name": "stdout",
     "output_type": "stream",
     "text": [
      "+-------+-------------------+-------------------+-------------------+-------------------+-------------------+\n",
      "|summary|      fixed_acidity|   volatile_acidity|        citric_acid|     residual_sugar|          chlorides|\n",
      "+-------+-------------------+-------------------+-------------------+-------------------+-------------------+\n",
      "|  count|               5989|               5989|               5989|               5989|               5989|\n",
      "|   mean|  0.443511020203705|0.32859353258752183| 0.4225990893214121|0.25947658891388814|0.28032753029677215|\n",
      "| stddev|0.14549465318868887| 0.1947919601419506|0.18028318553817255|0.24602310839574185|0.13827501412930188|\n",
      "|    min|                0.0|                0.0|                0.0|                0.0|                0.0|\n",
      "|    max|                1.0|                1.0|                1.0|                1.0|                1.0|\n",
      "+-------+-------------------+-------------------+-------------------+-------------------+-------------------+\n",
      "\n"
     ]
    }
   ],
   "source": [
    "newdf.select(\"fixed_acidity\", \"volatile_acidity\", \"citric_acid\", \"residual_sugar\", \"chlorides\").describe().show()\n"
   ]
  },
  {
   "cell_type": "code",
   "execution_count": 18,
   "id": "27ea1995-2a9c-43c4-ae90-33755c62a343",
   "metadata": {
    "scrolled": true
   },
   "outputs": [
    {
     "name": "stdout",
     "output_type": "stream",
     "text": [
      "+-------+-------------------+--------------------+-------------------+-------------------+-------------------+-------------------+\n",
      "|summary|free_sulfur_dioxide|total_sulfur_dioxide|            density|                 pH|          sulphates|            alcohol|\n",
      "+-------+-------------------+--------------------+-------------------+-------------------+-------------------+-------------------+\n",
      "|  count|               5989|                5989|               5989|               5989|               5989|               5989|\n",
      "|   mean|0.36253761978260945|  0.4059392703047382|0.47726405231195856| 0.4982589608727097| 0.3993365614738168|0.37302990585987306|\n",
      "| stddev| 0.1995871298900586| 0.19702117763741184| 0.1848708618114693|0.16097403980824412|0.16966163838677764|0.21150966500228657|\n",
      "|    min|                0.0|                 0.0|                0.0|                0.0|                0.0|                0.0|\n",
      "|    max|                1.0|                 1.0|                1.0|                1.0|                1.0|                1.0|\n",
      "+-------+-------------------+--------------------+-------------------+-------------------+-------------------+-------------------+\n",
      "\n"
     ]
    }
   ],
   "source": [
    "newdf.select(\"free_sulfur_dioxide\", \"total_sulfur_dioxide\", \"density\", \"pH\", \"sulphates\", \"alcohol\").describe().show()\n"
   ]
  },
  {
   "cell_type": "code",
   "execution_count": 19,
   "id": "a2c3e802-c11f-48c4-88af-2faa70d8759d",
   "metadata": {},
   "outputs": [],
   "source": [
    "from pyspark.sql.functions import when\n",
    "\n",
    "newdf = newdf.withColumn(\n",
    "    \"color\",\n",
    "    when(newdf[\"color\"] == \"red\", 1)  # Điều kiện: nếu giá trị là 'red', gán 1\n",
    "    .otherwise(0)  # Nếu không, gán 0\n",
    ")\n"
   ]
  },
  {
   "cell_type": "code",
   "execution_count": 20,
   "id": "dea3ba6d-50e7-479b-ac06-42958a5d1890",
   "metadata": {
    "scrolled": true
   },
   "outputs": [
    {
     "data": {
      "text/html": [
       "<div>\n",
       "<style scoped>\n",
       "    .dataframe tbody tr th:only-of-type {\n",
       "        vertical-align: middle;\n",
       "    }\n",
       "\n",
       "    .dataframe tbody tr th {\n",
       "        vertical-align: top;\n",
       "    }\n",
       "\n",
       "    .dataframe thead th {\n",
       "        text-align: right;\n",
       "    }\n",
       "</style>\n",
       "<table border=\"1\" class=\"dataframe\">\n",
       "  <thead>\n",
       "    <tr style=\"text-align: right;\">\n",
       "      <th></th>\n",
       "      <th>fixed_acidity</th>\n",
       "      <th>volatile_acidity</th>\n",
       "      <th>citric_acid</th>\n",
       "      <th>residual_sugar</th>\n",
       "      <th>chlorides</th>\n",
       "      <th>free_sulfur_dioxide</th>\n",
       "      <th>total_sulfur_dioxide</th>\n",
       "      <th>density</th>\n",
       "      <th>pH</th>\n",
       "      <th>sulphates</th>\n",
       "      <th>alcohol</th>\n",
       "      <th>quality</th>\n",
       "      <th>color</th>\n",
       "    </tr>\n",
       "  </thead>\n",
       "  <tbody>\n",
       "    <tr>\n",
       "      <th>0</th>\n",
       "      <td>0.486111</td>\n",
       "      <td>0.826667</td>\n",
       "      <td>0.000000</td>\n",
       "      <td>0.068783</td>\n",
       "      <td>0.440789</td>\n",
       "      <td>0.121951</td>\n",
       "      <td>0.101449</td>\n",
       "      <td>0.690123</td>\n",
       "      <td>0.802083</td>\n",
       "      <td>0.453333</td>\n",
       "      <td>0.176991</td>\n",
       "      <td>5.0</td>\n",
       "      <td>1</td>\n",
       "    </tr>\n",
       "    <tr>\n",
       "      <th>1</th>\n",
       "      <td>0.541667</td>\n",
       "      <td>0.906667</td>\n",
       "      <td>0.054054</td>\n",
       "      <td>0.089947</td>\n",
       "      <td>0.546053</td>\n",
       "      <td>0.170732</td>\n",
       "      <td>0.173913</td>\n",
       "      <td>0.638476</td>\n",
       "      <td>0.541667</td>\n",
       "      <td>0.573333</td>\n",
       "      <td>0.247788</td>\n",
       "      <td>5.0</td>\n",
       "      <td>1</td>\n",
       "    </tr>\n",
       "    <tr>\n",
       "      <th>2</th>\n",
       "      <td>0.486111</td>\n",
       "      <td>0.826667</td>\n",
       "      <td>0.000000</td>\n",
       "      <td>0.068783</td>\n",
       "      <td>0.440789</td>\n",
       "      <td>0.121951</td>\n",
       "      <td>0.101449</td>\n",
       "      <td>0.690123</td>\n",
       "      <td>0.802083</td>\n",
       "      <td>0.453333</td>\n",
       "      <td>0.176991</td>\n",
       "      <td>5.0</td>\n",
       "      <td>1</td>\n",
       "    </tr>\n",
       "    <tr>\n",
       "      <th>3</th>\n",
       "      <td>0.486111</td>\n",
       "      <td>0.773333</td>\n",
       "      <td>0.000000</td>\n",
       "      <td>0.063492</td>\n",
       "      <td>0.434211</td>\n",
       "      <td>0.146341</td>\n",
       "      <td>0.123188</td>\n",
       "      <td>0.690123</td>\n",
       "      <td>0.802083</td>\n",
       "      <td>0.453333</td>\n",
       "      <td>0.176991</td>\n",
       "      <td>5.0</td>\n",
       "      <td>1</td>\n",
       "    </tr>\n",
       "  </tbody>\n",
       "</table>\n",
       "</div>"
      ],
      "text/plain": [
       "   fixed_acidity  volatile_acidity  citric_acid  residual_sugar  chlorides  \\\n",
       "0       0.486111          0.826667     0.000000        0.068783   0.440789   \n",
       "1       0.541667          0.906667     0.054054        0.089947   0.546053   \n",
       "2       0.486111          0.826667     0.000000        0.068783   0.440789   \n",
       "3       0.486111          0.773333     0.000000        0.063492   0.434211   \n",
       "\n",
       "   free_sulfur_dioxide  total_sulfur_dioxide   density        pH  sulphates  \\\n",
       "0             0.121951              0.101449  0.690123  0.802083   0.453333   \n",
       "1             0.170732              0.173913  0.638476  0.541667   0.573333   \n",
       "2             0.121951              0.101449  0.690123  0.802083   0.453333   \n",
       "3             0.146341              0.123188  0.690123  0.802083   0.453333   \n",
       "\n",
       "    alcohol  quality  color  \n",
       "0  0.176991      5.0      1  \n",
       "1  0.247788      5.0      1  \n",
       "2  0.176991      5.0      1  \n",
       "3  0.176991      5.0      1  "
      ]
     },
     "execution_count": 20,
     "metadata": {},
     "output_type": "execute_result"
    }
   ],
   "source": [
    "newdf.limit(4).toPandas()"
   ]
  },
  {
   "cell_type": "markdown",
   "id": "c35c2044-be90-404e-9457-60a9271b1ac2",
   "metadata": {},
   "source": [
    "# Train model"
   ]
  },
  {
   "cell_type": "code",
   "execution_count": 23,
   "id": "bad4a66e-4bdc-45f7-8b44-8605d12dd6b9",
   "metadata": {},
   "outputs": [
    {
     "name": "stdout",
     "output_type": "stream",
     "text": [
      "+-------+----------+\n",
      "|quality|prediction|\n",
      "+-------+----------+\n",
      "|    6.0|       7.0|\n",
      "|    5.0|       4.0|\n",
      "|    7.0|       6.0|\n",
      "|    6.0|       6.0|\n",
      "|    5.0|       5.0|\n",
      "+-------+----------+\n",
      "only showing top 5 rows\n",
      "\n",
      "Accuracy: 0.58\n"
     ]
    }
   ],
   "source": [
    "from pyspark.sql import SparkSession\n",
    "from pyspark.ml.feature import VectorAssembler\n",
    "from pyspark.sql.functions import udf\n",
    "from pyspark.sql.types import DoubleType, IntegerType\n",
    "from collections import Counter\n",
    "import numpy as np\n",
    "\n",
    "mydf = newdf\n",
    "\n",
    "# X là các đặc trưng (các cột không phải 'quality' và 'color')\n",
    "feature_columns = [col for col in mydf.columns if col not in ['quality', 'color']]\n",
    "assembler = VectorAssembler(inputCols=feature_columns, outputCol='myFeatures')\n",
    "mydf = assembler.transform(mydf)\n",
    "\n",
    "# Chia dữ liệu thành tập huấn luyện và kiểm tra (80% - 20%)\n",
    "train, test = mydf.randomSplit([0.8, 0.2], seed=42)\n",
    "\n",
    "# Hàm tính khoảng cách Euclid\n",
    "def euclidean_distance(x1, x2):\n",
    "    return float(np.sqrt(np.sum((np.array(x1) - np.array(x2))**2)))\n",
    "\n",
    "# Định nghĩa UDF để tính khoảng cách (Chúng ta sẽ dùng UDF này sau)\n",
    "@udf(returnType=DoubleType())\n",
    "def euclidean_distance_udf(x1, x2):\n",
    "    return euclidean_distance(x1, x2)\n",
    "\n",
    "# Định nghĩa mô hình KNN\n",
    "class KNN:\n",
    "    def __init__(self, k):\n",
    "        self.k = k\n",
    "\n",
    "    def fit(self, train_df):\n",
    "        self.train_df = train_df\n",
    "\n",
    "    def predict(self, test_df):\n",
    "        # Lấy đặc trưng và nhãn từ tập huấn luyện\n",
    "        train_features = self.train_df.select('myFeatures').rdd.map(lambda row: row.myFeatures).collect()\n",
    "        train_labels = self.train_df.select('quality').rdd.map(lambda row: row.quality).collect()\n",
    "\n",
    "        def predict_single(test_row):\n",
    "            # Tính khoảng cách giữa test_row và tất cả các mẫu trong train_features\n",
    "            distances = [euclidean_distance(test_row, train_row) for train_row in train_features]\n",
    "            k_indices = np.argsort(distances)[:self.k]\n",
    "            k_nearest_labels = [train_labels[i] for i in k_indices]\n",
    "            most_common = Counter(k_nearest_labels).most_common(1)\n",
    "            return most_common[0][0]\n",
    "\n",
    "        # Dự đoán cho từng dòng trong dữ liệu kiểm tra\n",
    "        predictions = []\n",
    "        for row in test_df.select('myFeatures').collect():\n",
    "            prediction = predict_single(row.myFeatures)\n",
    "            predictions.append(prediction)\n",
    "\n",
    "        # Gán nhãn dự đoán vào dữ liệu kiểm tra\n",
    "        predictions_df = test_df.withColumn('prediction', udf(lambda: predictions.pop(0), DoubleType())())\n",
    "\n",
    "        return predictions_df\n",
    "\n",
    "# Huấn luyện mô hình KNN với k=3\n",
    "knn = KNN(3)\n",
    "knn.fit(train)\n",
    "\n",
    "# Dự đoán chất lượng cho dữ liệu kiểm tra\n",
    "predictions_df = knn.predict(test)\n",
    "\n",
    "# In kết quả\n",
    "predictions_df.select('quality', 'prediction').show(5)\n",
    "\n",
    "# Tính độ chính xác\n",
    "correct_predictions = predictions_df.filter(predictions_df.prediction == predictions_df.quality).count()\n",
    "total_predictions = predictions_df.count()\n",
    "accuracy = correct_predictions / total_predictions\n",
    "\n",
    "print(f'Accuracy: {accuracy:.2f}')\n"
   ]
  }
 ],
 "metadata": {
  "kernelspec": {
   "display_name": "Python 3 (ipykernel)",
   "language": "python",
   "name": "python3"
  },
  "language_info": {
   "codemirror_mode": {
    "name": "ipython",
    "version": 3
   },
   "file_extension": ".py",
   "mimetype": "text/x-python",
   "name": "python",
   "nbconvert_exporter": "python",
   "pygments_lexer": "ipython3",
   "version": "3.8.10"
  }
 },
 "nbformat": 4,
 "nbformat_minor": 5
}
